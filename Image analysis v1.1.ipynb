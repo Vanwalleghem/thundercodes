{
 "cells": [
  {
   "cell_type": "code",
   "execution_count": 31,
   "metadata": {
    "collapsed": false
   },
   "outputs": [],
   "source": [
    "%matplotlib inline\n",
    "import seaborn as sns\n",
    "import matplotlib.pyplot as plt\n",
    "from matplotlib.pyplot import figure, show, axes, sci\n",
    "from matplotlib import cm, colors\n",
    "from thunder import KMeans, NMF, PCA, RegressionModel, Colorize\n",
    "import numpy as np\n",
    "import scipy.io\n",
    "import math\n",
    "from numpy import amin, amax, ravel, sum, outer, inner, mean, shape, dot, transpose, concatenate, ones, asarray\n",
    "image = Colorize.image\n",
    "sns.set_context('notebook')\n",
    "sns.set_style('ticks')\n",
    "plt.ioff()\n",
    "\n",
    "\n",
    "def analysis( norm,dirnumber,directory,stimparam,numcomp=18):\n",
    "      \n",
    "    fig = figure(dpi=300)\n",
    "    model = NMF(k=numcomp, maxIter=100).fit(norm)\n",
    "    j=1\n",
    "    imgs = model.w.pack()\n",
    "    for i in xrange(0,model.h.T.shape[1],3):\n",
    "        fig = figure(dpi=300)\n",
    "        plt.plot(model.h.T[:,i:i+3])\n",
    "        plt.savefig('/mnt/downloads/'+directory+'/NMF-'+str(dirnumber)+'-'+str(j)+'.png', dpi=300, bbox_inches='tight')\n",
    "        fig = figure(dpi=300)\n",
    "        maps = Colorize(cmap='indexed', colors=[ \"blue\",\"green\",\"red\"], scale=2).transform(imgs[i:i+3])\n",
    "        plt.imshow(maps);\n",
    "        plt.savefig('/mnt/downloads/'+directory+'/NMFb-'+str(dirnumber)+'-'+str(j)+'.png', dpi=300, bbox_inches='tight')\n",
    "        j+=1\n",
    "        plt.close(\"all\")\n",
    "    scipy.io.savemat('/mnt/downloads/'+directory+'/NMF-'+str(dirnumber)+'.mat', mdict={'W':imgs,'H':model.h.T}, oned_as='column', do_compression='true')\n",
    "\n",
    "\n",
    "#     yplot=int(math.ceil(float(stimparam.shape[0])/(math.trunc(stimparam.shape[0]**(0.5)))))\n",
    "#     xplot=math.trunc(stimparam.shape[0]**(0.5))  \n",
    "#     model = RegressionModel.load(test, \"linear\")\n",
    "#     global results\n",
    "#     results = model.fit(norm)\n",
    "#     betas=results.select('betas').pack()\n",
    "#     rsq=results.select('stats').pack()\n",
    "#     fig = figure(dpi=300)\n",
    "#     plt.subplots(xplot, yplot, sharex=True, sharey=True)\n",
    "#     for j in range(0,stimparam.shape[0]):\n",
    "#         plt.subplot(xplot, yplot, j+1);\n",
    "#         plt.imshow(betas[j], cmap='RdBu_r')\n",
    "#         ax = plt.gca()\n",
    "#         ax.set_xticklabels([])\n",
    "#         ax.set_yticklabels([])\n",
    "#     plt.savefig('/mnt/downloads/'+directory+'/linreg-'+str(dirnumber)+'.png', dpi=300, bbox_inches='tight')\n",
    "#     scipy.io.savemat('/mnt/downloads/'+directory+'/linreg-'+str(dirnumber)+'.mat', mdict={'betas':betas,'rsq':rsq}, oned_as='column', do_compression='true')\n",
    "\n",
    "#     corrMat=np.zeros((stimparam.shape[0],norm.dims[0],norm.dims[1]),dtype=np.float64)\n",
    "\n",
    "#     fig = figure(dpi=300)\n",
    "#     plt.subplots(xplot, yplot, sharex=True, sharey=True)\n",
    "#     for j in range(0,stimparam.shape[0]):\n",
    "#         x = test[j]        \n",
    "#         corrs = norm.correlate(x)\n",
    "#         corrMat[j] = corrs.pack()\n",
    "#         plt.subplot(xplot, yplot, j+1);\n",
    "#         plt.imshow(corrMat[j], cmap='RdBu_r')\n",
    "#         ax = plt.gca()\n",
    "#         ax.set_xticklabels([])\n",
    "#         ax.set_yticklabels([])\n",
    "#     scipy.io.savemat('/mnt/downloads/'+directory+'/correlation-'+str(dirnumber)+'.mat', mdict={'correlations':corrMat}, oned_as='column', do_compression='true')\n",
    "#     plt.savefig('/mnt/downloads/'+directory+'/correlation-'+str(dirnumber)+'.png', dpi=300, bbox_inches='tight')\n",
    "\n",
    "    return"
   ]
  },
  {
   "cell_type": "code",
   "execution_count": 27,
   "metadata": {
    "collapsed": true
   },
   "outputs": [],
   "source": [
    "s=\"\"\"2199.663\n",
    "2237.083333\n",
    "2384.380111\n",
    "2636.109889\n",
    "2842.447333\n",
    "2938.003333\n",
    "2979.668\n",
    "2966.773333\n",
    "2897.387\n",
    "2808.388556\n",
    "2721.357333\n",
    "2640.846889\n",
    "2572.843889\n",
    "2526.071111\n",
    "2469.872556\n",
    "2437.759222\n",
    "2389.773667\n",
    "2359.687889\n",
    "2327.660111\n",
    "2306.591667\n",
    "2289.397222\n",
    "2272.441444\n",
    "2261.447111\n",
    "2242.478\n",
    "2228.352778\n",
    "2223.758333\n",
    "2220.430444\n",
    "2212.307\n",
    "2203.042\n",
    "2203.629889\n",
    "2195.339333\n",
    "1566.405667\n",
    "1571.036167\n",
    "1567.622833\n",
    "1550.9854\n",
    "\"\"\"\n",
    "GCaMP6s = np.array(s.replace(\"[\",\"\").replace(\"]\",\"\").split(),dtype=float)\n",
    "test=np.zeros((8,700),dtype=np.int);\n",
    "test[0,52:52+shape(GCaMP6s)[0]]=GCaMP6s;\n",
    "test[0,72:72+shape(GCaMP6s)[0]]=GCaMP6s;\n",
    "test[0,96:96+shape(GCaMP6s)[0]]=GCaMP6s;\n",
    "test[1,165:165+shape(GCaMP6s)[0]]=GCaMP6s;\n",
    "test[2,210:210+shape(GCaMP6s)[0]]=GCaMP6s;\n",
    "test[3,250:250+shape(GCaMP6s)[0]]=GCaMP6s;\n",
    "test[4,352:352+shape(GCaMP6s)[0]]=GCaMP6s;\n",
    "test[4,402:402+shape(GCaMP6s)[0]]=GCaMP6s;\n",
    "test[5,452:452+shape(GCaMP6s)[0]]=GCaMP6s;\n",
    "test[5,502:502+shape(GCaMP6s)[0]]=GCaMP6s;"
   ]
  },
  {
   "cell_type": "code",
   "execution_count": null,
   "metadata": {
    "collapsed": false
   },
   "outputs": [],
   "source": [
    "directory='temp'\n",
    "for i in range(1,20):\n",
    "\tnorm = tsc.loadImages('/mnt/downloads/tonoF5/'+str(i)+'/', inputFormat='tif')\n",
    "\tnorm.cache()\n",
    "\tnorm = norm.toTimeSeries(size=\"32M\")\n",
    "\tnorm=norm.squelch(600).normalize(baseline='percentile')\n",
    "\tnorm.cache()\n",
    "\tanalysis(norm,i,directory,aud8freq)\n",
    "\tplt.close(\"all\")"
   ]
  },
  {
   "cell_type": "code",
   "execution_count": 24,
   "metadata": {
    "collapsed": true
   },
   "outputs": [],
   "source": [
    "s=\"\"\"2199.663\n",
    "2237.083333\n",
    "2384.380111\n",
    "2636.109889\n",
    "2842.447333\n",
    "2938.003333\n",
    "2979.668\n",
    "2966.773333\n",
    "2897.387\n",
    "2808.388556\n",
    "2721.357333\n",
    "2640.846889\n",
    "2572.843889\n",
    "2526.071111\n",
    "2469.872556\n",
    "2437.759222\n",
    "2389.773667\n",
    "2359.687889\n",
    "2327.660111\n",
    "2306.591667\n",
    "2289.397222\n",
    "2272.441444\n",
    "2261.447111\n",
    "2242.478\n",
    "2228.352778\n",
    "2223.758333\n",
    "2220.430444\n",
    "2212.307\n",
    "2203.042\n",
    "2203.629889\n",
    "2195.339333\n",
    "1566.405667\n",
    "1571.036167\n",
    "1567.622833\n",
    "1550.9854\n",
    "\"\"\"\n",
    "GCaMP6s = np.array(s.replace(\"[\",\"\").replace(\"]\",\"\").split(),dtype=float)\n",
    "test=np.zeros((5,500),dtype=np.int);\n",
    "test[0,52:52+shape(GCaMP6s)[0]]=GCaMP6s;\n",
    "test[0,72:72+shape(GCaMP6s)[0]]=GCaMP6s;\n",
    "test[0,96:96+shape(GCaMP6s)[0]]=GCaMP6s;\n",
    "test[1,165:165+shape(GCaMP6s)[0]]=GCaMP6s;\n",
    "test[2,210:210+shape(GCaMP6s)[0]]=GCaMP6s;\n",
    "test[3,250:250+shape(GCaMP6s)[0]]=GCaMP6s;\n",
    "test[4,352:352+shape(GCaMP6s)[0]]=GCaMP6s;\n",
    "test[4,402:402+shape(GCaMP6s)[0]]=GCaMP6s;\n"
   ]
  },
  {
   "cell_type": "code",
   "execution_count": 3,
   "metadata": {
    "collapsed": true
   },
   "outputs": [],
   "source": [
    "directory='0721F1results'\n",
    "i=1\n",
    "norm = tsc.loadImages('/mnt/downloads/0721F1/'+str(i)+'/', inputFormat='tif')\n",
    "norm.cache()\n",
    "norm = norm.toTimeSeries(size=\"32M\")\n",
    "norm=norm.squelch(800).normalize(baseline='percentile')"
   ]
  },
  {
   "cell_type": "code",
   "execution_count": 10,
   "metadata": {
    "collapsed": true
   },
   "outputs": [],
   "source": [
    "model = NMF(k=30, maxIter=10).fit(norm)"
   ]
  },
  {
   "cell_type": "code",
   "execution_count": 11,
   "metadata": {
    "collapsed": false
   },
   "outputs": [
    {
     "data": {
      "text/plain": [
       "30"
      ]
     },
     "execution_count": 11,
     "metadata": {},
     "output_type": "execute_result"
    }
   ],
   "source": [
    "model.h.T.shape[1]"
   ]
  },
  {
   "cell_type": "code",
   "execution_count": 12,
   "metadata": {
    "collapsed": false
   },
   "outputs": [
    {
     "name": "stdout",
     "output_type": "stream",
     "text": [
      "0\n",
      "3\n",
      "6\n",
      "9\n",
      "12\n",
      "15\n",
      "18\n",
      "21\n",
      "24\n",
      "27\n"
     ]
    }
   ],
   "source": [
    "for i in xrange(0,model.h.T.shape[1],3):\n",
    "  print(i)"
   ]
  },
  {
   "cell_type": "code",
   "execution_count": 19,
   "metadata": {
    "collapsed": false
   },
   "outputs": [
    {
     "name": "stdout",
     "output_type": "stream",
     "text": [
      "1\n"
     ]
    },
    {
     "ename": "NameError",
     "evalue": "name 'dirnumber' is not defined",
     "output_type": "error",
     "traceback": [
      "\u001b[1;31m---------------------------------------------------------------------------\u001b[0m",
      "\u001b[1;31mNameError\u001b[0m                                 Traceback (most recent call last)",
      "\u001b[1;32m<ipython-input-19-253b75c923c8>\u001b[0m in \u001b[0;36m<module>\u001b[1;34m()\u001b[0m\n\u001b[0;32m      5\u001b[0m         \u001b[0mfig\u001b[0m \u001b[1;33m=\u001b[0m \u001b[0mfigure\u001b[0m\u001b[1;33m(\u001b[0m\u001b[0mdpi\u001b[0m\u001b[1;33m=\u001b[0m\u001b[1;36m300\u001b[0m\u001b[1;33m)\u001b[0m\u001b[1;33m\u001b[0m\u001b[0m\n\u001b[0;32m      6\u001b[0m         \u001b[0mplt\u001b[0m\u001b[1;33m.\u001b[0m\u001b[0mplot\u001b[0m\u001b[1;33m(\u001b[0m\u001b[0mmodel\u001b[0m\u001b[1;33m.\u001b[0m\u001b[0mh\u001b[0m\u001b[1;33m.\u001b[0m\u001b[0mT\u001b[0m\u001b[1;33m[\u001b[0m\u001b[1;33m:\u001b[0m\u001b[1;33m,\u001b[0m\u001b[0mi\u001b[0m\u001b[1;33m:\u001b[0m\u001b[0mi\u001b[0m\u001b[1;33m+\u001b[0m\u001b[1;36m3\u001b[0m\u001b[1;33m]\u001b[0m\u001b[1;33m)\u001b[0m\u001b[1;33m\u001b[0m\u001b[0m\n\u001b[1;32m----> 7\u001b[1;33m         \u001b[0mplt\u001b[0m\u001b[1;33m.\u001b[0m\u001b[0msavefig\u001b[0m\u001b[1;33m(\u001b[0m\u001b[1;34m'/mnt/downloads/'\u001b[0m\u001b[1;33m+\u001b[0m\u001b[0mdirectory\u001b[0m\u001b[1;33m+\u001b[0m\u001b[1;34m'/NMF-'\u001b[0m\u001b[1;33m+\u001b[0m\u001b[0mstr\u001b[0m\u001b[1;33m(\u001b[0m\u001b[0mdirnumber\u001b[0m\u001b[1;33m)\u001b[0m\u001b[1;33m+\u001b[0m\u001b[1;34m'-'\u001b[0m\u001b[1;33m+\u001b[0m\u001b[0mstr\u001b[0m\u001b[1;33m(\u001b[0m\u001b[0mj\u001b[0m\u001b[1;33m)\u001b[0m\u001b[1;33m+\u001b[0m\u001b[1;34m'.png'\u001b[0m\u001b[1;33m,\u001b[0m \u001b[0mdpi\u001b[0m\u001b[1;33m=\u001b[0m\u001b[1;36m300\u001b[0m\u001b[1;33m,\u001b[0m \u001b[0mbbox_inches\u001b[0m\u001b[1;33m=\u001b[0m\u001b[1;34m'tight'\u001b[0m\u001b[1;33m)\u001b[0m\u001b[1;33m\u001b[0m\u001b[0m\n\u001b[0m\u001b[0;32m      8\u001b[0m         \u001b[0mfig\u001b[0m \u001b[1;33m=\u001b[0m \u001b[0mfigure\u001b[0m\u001b[1;33m(\u001b[0m\u001b[0mdpi\u001b[0m\u001b[1;33m=\u001b[0m\u001b[1;36m300\u001b[0m\u001b[1;33m)\u001b[0m\u001b[1;33m\u001b[0m\u001b[0m\n\u001b[0;32m      9\u001b[0m         \u001b[0mmaps\u001b[0m \u001b[1;33m=\u001b[0m \u001b[0mColorize\u001b[0m\u001b[1;33m(\u001b[0m\u001b[0mcmap\u001b[0m\u001b[1;33m=\u001b[0m\u001b[1;34m'indexed'\u001b[0m\u001b[1;33m,\u001b[0m \u001b[0mcolors\u001b[0m\u001b[1;33m=\u001b[0m\u001b[1;33m[\u001b[0m \u001b[1;34m\"blue\"\u001b[0m\u001b[1;33m,\u001b[0m\u001b[1;34m\"green\"\u001b[0m\u001b[1;33m,\u001b[0m\u001b[1;34m\"red\"\u001b[0m\u001b[1;33m]\u001b[0m\u001b[1;33m,\u001b[0m \u001b[0mscale\u001b[0m\u001b[1;33m=\u001b[0m\u001b[1;36m2\u001b[0m\u001b[1;33m)\u001b[0m\u001b[1;33m.\u001b[0m\u001b[0mtransform\u001b[0m\u001b[1;33m(\u001b[0m\u001b[0mimgs\u001b[0m\u001b[1;33m[\u001b[0m\u001b[0mi\u001b[0m\u001b[1;33m:\u001b[0m\u001b[0mi\u001b[0m\u001b[1;33m+\u001b[0m\u001b[1;36m3\u001b[0m\u001b[1;33m]\u001b[0m\u001b[1;33m)\u001b[0m\u001b[1;33m\u001b[0m\u001b[0m\n",
      "\u001b[1;31mNameError\u001b[0m: name 'dirnumber' is not defined"
     ]
    }
   ],
   "source": [
    "j=1\n",
    "imgs = model.w.pack()\n",
    "for i in xrange(0,model.h.T.shape[1],3):\n",
    "\tprint(j)\n",
    "\tfig = figure(dpi=300)\n",
    "\tplt.plot(model.h.T[:,i:i+3])\n",
    "\tplt.savefig('/mnt/downloads/'+directory+'/NMF-'+str(dirnumber)+'-'+str(j)+'.png', dpi=300, bbox_inches='tight')\n",
    "\tfig = figure(dpi=300)\n",
    "\tmaps = Colorize(cmap='indexed', colors=[ \"blue\",\"green\",\"red\"], scale=2).transform(imgs[i:i+3])\n",
    "\tplt.imshow(maps);\n",
    "\tplt.savefig('/mnt/downloads/'+directory+'/NMFb-'+str(dirnumber)+'-'+str(j)+'.png', dpi=300, bbox_inches='tight')\n",
    "\tj+=1"
   ]
  },
  {
   "cell_type": "code",
   "execution_count": 17,
   "metadata": {
    "collapsed": false
   },
   "outputs": [
    {
     "data": {
      "text/plain": [
       "0"
      ]
     },
     "execution_count": 17,
     "metadata": {},
     "output_type": "execute_result"
    }
   ],
   "source": [
    "model.h.T.shape[1]%3"
   ]
  },
  {
   "cell_type": "code",
   "execution_count": 18,
   "metadata": {
    "collapsed": true
   },
   "outputs": [],
   "source": [
    "directory='temp'"
   ]
  },
  {
   "cell_type": "code",
   "execution_count": 20,
   "metadata": {
    "collapsed": true
   },
   "outputs": [],
   "source": [
    "dirnumber=1"
   ]
  },
  {
   "cell_type": "code",
   "execution_count": 22,
   "metadata": {
    "collapsed": false
   },
   "outputs": [
    {
     "name": "stdout",
     "output_type": "stream",
     "text": [
      "1\n",
      "2\n",
      "3\n",
      "4\n",
      "5\n",
      "6\n",
      "7\n",
      "8\n",
      "9\n",
      "10\n"
     ]
    },
    {
     "name": "stderr",
     "output_type": "stream",
     "text": [
      "/home/ubuntu/anaconda/lib/python2.7/site-packages/matplotlib/pyplot.py:423: RuntimeWarning: More than 20 figures have been opened. Figures created through the pyplot interface (`matplotlib.pyplot.figure`) are retained until explicitly closed and may consume too much memory. (To control this warning, see the rcParam `figure.max_num_figures`).\n",
      "  max_open_warning, RuntimeWarning)\n"
     ]
    }
   ],
   "source": [
    "    for i in xrange(0,model.h.T.shape[1],3):\n",
    "        fig = figure(dpi=300)\n",
    "        plt.plot(model.h.T[:,i:i+3])\n",
    "        plt.savefig('/mnt/downloads/'+directory+'/NMF-'+str(dirnumber)+'-'+str(j)+'.png', dpi=300, bbox_inches='tight')\n",
    "        fig = figure(dpi=300)\n",
    "        maps = Colorize(cmap='indexed', colors=[ \"blue\",\"green\",\"red\"], scale=2).transform(imgs[i:i+3])\n",
    "        plt.imshow(maps);\n",
    "        plt.savefig('/mnt/downloads/'+directory+'/NMFb-'+str(dirnumber)+'-'+str(j)+'.png', dpi=300, bbox_inches='tight')\n",
    "        j+=1\n",
    "        plt.close(\"all\")"
   ]
  },
  {
   "cell_type": "code",
   "execution_count": 23,
   "metadata": {
    "collapsed": true
   },
   "outputs": [],
   "source": [
    "\tplt.close(\"all\")"
   ]
  },
  {
   "cell_type": "code",
   "execution_count": 33,
   "metadata": {
    "collapsed": false
   },
   "outputs": [],
   "source": [
    "aud8freq=np.zeros((8,700),dtype=np.int);\n",
    "aud8freq[0,21:21+shape(GCaMP6s)[0]]=GCaMP6s;\n",
    "aud8freq[0,406:406+shape(GCaMP6s)[0]]=GCaMP6s;\n",
    "aud8freq[0,611:611+shape(GCaMP6s)[0]]=GCaMP6s;\n",
    "\n",
    "aud8freq[1,46:46+shape(GCaMP6s)[0]]=GCaMP6s;\n",
    "aud8freq[1,381:381+shape(GCaMP6s)[0]]=GCaMP6s;\n",
    "aud8freq[1,536:536+shape(GCaMP6s)[0]]=GCaMP6s;\n",
    "\n",
    "aud8freq[2,71:71+shape(GCaMP6s)[0]]=GCaMP6s;\n",
    "aud8freq[2,356:356+shape(GCaMP6s)[0]]=GCaMP6s;\n",
    "aud8freq[2,511:511+shape(GCaMP6s)[0]]=GCaMP6s;\n",
    "\n",
    "aud8freq[3,96:96+shape(GCaMP6s)[0]]=GCaMP6s;\n",
    "aud8freq[3,331:251];\n",
    "aud8freq[3,561:561+shape(GCaMP6s)[0]]=GCaMP6s;\n",
    "\n",
    "aud8freq[4,121:121+shape(GCaMP6s)[0]]=GCaMP6s;\n",
    "aud8freq[4,306:306+shape(GCaMP6s)[0]]=GCaMP6s;\n",
    "aud8freq[4,486:486+shape(GCaMP6s)[0]]=GCaMP6s;\n",
    "\n",
    "aud8freq[5,146:146+shape(GCaMP6s)[0]]=GCaMP6s;\n",
    "aud8freq[5,281:281+shape(GCaMP6s)[0]]=GCaMP6s;\n",
    "aud8freq[5,586:586+shape(GCaMP6s)[0]]=GCaMP6s;\n",
    "\n",
    "aud8freq[6,171:171+shape(GCaMP6s)[0]]=GCaMP6s;\n",
    "aud8freq[6,256:256+shape(GCaMP6s)[0]]=GCaMP6s;\n",
    "aud8freq[6,461:461+shape(GCaMP6s)[0]]=GCaMP6s;\n",
    "\n",
    "aud8freq[7,196:196+shape(GCaMP6s)[0]]=GCaMP6s;\n",
    "aud8freq[7,231:231+shape(GCaMP6s)[0]]=GCaMP6s;\n",
    "aud8freq[7,636:636+shape(GCaMP6s)[0]]=GCaMP6s;"
   ]
  },
  {
   "cell_type": "code",
   "execution_count": null,
   "metadata": {
    "collapsed": true
   },
   "outputs": [],
   "source": []
  }
 ],
 "metadata": {
  "kernelspec": {
   "display_name": "Python 2",
   "language": "python",
   "name": "python2"
  },
  "language_info": {
   "codemirror_mode": {
    "name": "ipython",
    "version": 2
   },
   "file_extension": ".py",
   "mimetype": "text/x-python",
   "name": "python",
   "nbconvert_exporter": "python",
   "pygments_lexer": "ipython2",
   "version": "2.7.10"
  }
 },
 "nbformat": 4,
 "nbformat_minor": 0
}
